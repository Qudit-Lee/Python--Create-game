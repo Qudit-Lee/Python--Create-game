{
 "cells": [
  {
   "cell_type": "markdown",
   "id": "a5f3c372",
   "metadata": {},
   "source": [
    "#### pip install pygame"
   ]
  },
  {
   "cell_type": "code",
   "execution_count": null,
   "id": "54ab9483",
   "metadata": {
    "scrolled": true
   },
   "outputs": [],
   "source": [
    "import pygame\n",
    "import random"
   ]
  },
  {
   "cell_type": "code",
   "execution_count": null,
   "id": "6438e61c",
   "metadata": {},
   "outputs": [],
   "source": [
    "# 화면 크기 정보\n",
    "SCREEN_WIDTH= 480 # 세로 크기\n",
    "SCREEN_HEIGHT= 680 # 가로 크기\n",
    "\n",
    "# 파이게임 초기화\n",
    "pygame.init()\n",
    "screen= pygame.display.set_mode((SCREEN_WIDTH, SCREEN_HEIGHT))\n",
    "\n",
    "# 데이터 로드\n",
    "background_image= pygame.image.load('게임 - 스타트 배경.jpg')\n",
    "platform_image= pygame.image.load('platform.png')\n",
    "player_image= pygame.image.load('유령-1.png')\n",
    "\n",
    "# 바닥 초기화\n",
    "platform_height= platform_image.get_size()[1]\n",
    "platform_pos_y= SCREEN_HEIGHT - platform_height\n",
    "\n",
    "# 플레이어 초기화\n",
    "player_width= platform_image.get_size()[0]\n",
    "player_height= platform_image.get_size()[1]\n",
    "player_pos_x= SCREEN_WIDTH/2 - player_width/2\n",
    "player_pos_y= SCREEN_HEIGHT - platform_height - player_height\n",
    "\n",
    "# 시계 객체 생성\n",
    "clock= pygame.time.Clock()\n",
    "\n",
    "# 오브젝트 세팅\n",
    "\n",
    "# 무한루프 시작\n",
    "running= True\n",
    "\n",
    "while running:\n",
    "    clock.tick(60)\n",
    "    for event in pygame.event.get():\n",
    "        if event.type == pygame.QUIT:\n",
    "            running == False\n",
    "    # 업데이트\n",
    "    key= pygame.key.get_pressed()\n",
    "    \n",
    "    # 왼쪽 방향키 -> 왼쪽으로 이동\n",
    "    if key[pygame.K_LEFT] == 1:\n",
    "        player_pos_x -= 700 * clock.get_time()/ 1000\n",
    "    \n",
    "    # 오른쪽 방향키 -> 오른쪽으로 이동\n",
    "    if key[pygame.K_RIGHT] == 1:\n",
    "        player_pos_x += 700 * clock.get_time()/ 1000\n",
    "    \n",
    "    if player_pos_x < 0:\n",
    "        player_pos_x = 0\n",
    "        \n",
    "    if player_pos_x > SCREEN_WIDTH - player_width:\n",
    "        player_pos_x = SCREEN_WIDTH - player_width\n",
    "    \n",
    "    # 이벤트 처리(충돌 등...)\n",
    "    \n",
    "    # 렌더(그리기)\n",
    "    screen.blit(background_image, (0, 0))\n",
    "    screen.blit(platform_image, (0, platform_pos_y))\n",
    "    screen.blit(player_image, (player_pos_x, player_pos_y))\n",
    "    \n",
    "    # 디스플레이 업데이트(필수)\n",
    "    pygame.display.update()\n",
    "    \n",
    "# 게임 종료\n",
    "pygame.quit()"
   ]
  },
  {
   "cell_type": "code",
   "execution_count": null,
   "id": "25cb6089",
   "metadata": {},
   "outputs": [],
   "source": []
  },
  {
   "cell_type": "code",
   "execution_count": null,
   "id": "c26f4d20",
   "metadata": {},
   "outputs": [],
   "source": []
  },
  {
   "cell_type": "code",
   "execution_count": null,
   "id": "6eda7469",
   "metadata": {},
   "outputs": [],
   "source": []
  }
 ],
 "metadata": {
  "kernelspec": {
   "display_name": "Python 3 (ipykernel)",
   "language": "python",
   "name": "python3"
  },
  "language_info": {
   "codemirror_mode": {
    "name": "ipython",
    "version": 3
   },
   "file_extension": ".py",
   "mimetype": "text/x-python",
   "name": "python",
   "nbconvert_exporter": "python",
   "pygments_lexer": "ipython3",
   "version": "3.9.12"
  }
 },
 "nbformat": 4,
 "nbformat_minor": 5
}
